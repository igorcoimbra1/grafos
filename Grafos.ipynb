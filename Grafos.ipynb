{
  "nbformat": 4,
  "nbformat_minor": 0,
  "metadata": {
    "colab": {
      "provenance": [],
      "include_colab_link": true
    },
    "kernelspec": {
      "name": "python3",
      "display_name": "Python 3"
    },
    "language_info": {
      "name": "python"
    }
  },
  "cells": [
    {
      "cell_type": "markdown",
      "metadata": {
        "id": "view-in-github",
        "colab_type": "text"
      },
      "source": [
        "<a href=\"https://colab.research.google.com/github/igorcoimbra1/grafos/blob/main/Grafos.ipynb\" target=\"_parent\"><img src=\"https://colab.research.google.com/assets/colab-badge.svg\" alt=\"Open In Colab\"/></a>"
      ]
    },
    {
      "cell_type": "markdown",
      "source": [
        "O enunciado proposto diz que deve ser criado uma função que faça a leitura da matriz de adjancencia ou de distancias. 999 indica que não a uma aresta de ligação entre os vertices.\n",
        "Para a matriz :\n",
        "4  => numero de vertices\n",
        "matriz:\n",
        "[0 12 3 999]\n",
        "[0 0 1 999]\n",
        "[0 0 0 5]\n",
        "[0 0 0 0]\n",
        "\n"
      ],
      "metadata": {
        "id": "Pqnoc5ytpLY7"
      }
    },
    {
      "cell_type": "markdown",
      "source": [
        "#Rodar tudo"
      ],
      "metadata": {
        "id": "llD7p9jaAMwQ"
      }
    },
    {
      "cell_type": "markdown",
      "source": [
        "Função para a leitura do arquivo e armazenamento em uma matriz"
      ],
      "metadata": {
        "id": "1RPksF1CVklA"
      }
    },
    {
      "cell_type": "code",
      "execution_count": 72,
      "metadata": {
        "colab": {
          "base_uri": "https://localhost:8080/"
        },
        "id": "SrwflZv3bc9b",
        "outputId": "d206a70a-ade8-4099-9f3b-fbf6b40f0dbc"
      },
      "outputs": [
        {
          "output_type": "stream",
          "name": "stdout",
          "text": [
            "Número de vértices: 10\n",
            "\n",
            "Matriz lida do arquivo:\n",
            "[0, 4, 5, 8, 999, 3, 999, 999, 999, 999]\n",
            "[999, 0, 3, 999, 999, 999, 999, 999, 999, 999]\n",
            "[999, 999, 0, 4, 6, 999, 999, 999, 999, 999]\n",
            "[999, 999, 999, 0, 999, 999, 999, 999, 999, 999]\n",
            "[999, 999, 999, 999, 0, 999, 5, 999, 999, 999]\n",
            "[999, 999, 999, 999, 8, 0, 1, 999, 999, 999]\n",
            "[999, 999, 999, 999, 999, 999, 0, 2, 5, 999]\n",
            "[999, 999, 999, 999, 999, 999, 999, 0, 2, 999]\n",
            "[999, 999, 999, 999, 999, 999, 999, 999, 0, 999]\n",
            "[999, 999, 999, 999, 999, 999, 4, 999, 999, 0]\n"
          ]
        }
      ],
      "source": [
        "# Definição da função que irá ler a matriz no arquivo txt\n",
        "def ler_matriz_do_arquivo(caminho_arquivo):\n",
        "\n",
        "    # Inicializa a matriz\n",
        "    matriz = []\n",
        "\n",
        "    try:\n",
        "        # Comando 'with' garante que o arquivo seja fechado corretamente depois de lido\n",
        "        # Comando 'r' serve para que ele abra o arquivo em modo de leitura\n",
        "        with open(caminho_arquivo, 'r') as arquivo:\n",
        "            # Lê o número de vértices da readline = primeira linha do arquivo, strip = remove espaços no inicio e fim e depois a o cast para converter para int\n",
        "            num_vertices = int(arquivo.readline().strip())\n",
        "\n",
        "            # Imprime o número de vértices\n",
        "            print(f\"Número de vértices: {num_vertices}\")\n",
        "\n",
        "            # Lê as linhas restantes e preenche a matriz\n",
        "            for _ in range(num_vertices):\n",
        "                # Lê uma linha do arquivo, remove espaços em branco e divide os valores em uma lista.\n",
        "                linha = arquivo.readline().strip().split()\n",
        "                # Converte os elementos para inteiros\n",
        "                linha = [int(elem) for elem in linha]\n",
        "                # Adiciona a linha convertida à matriz\n",
        "                if len(linha) != num_vertices:\n",
        "                  print(\"matriz invalida\")\n",
        "                  return None\n",
        "                matriz.append(linha)\n",
        "\n",
        "\n",
        "    # Tratamento de exceção para possíveis erros\n",
        "    except FileNotFoundError:\n",
        "        print(f\"Arquivo não encontrado: {caminho_arquivo}\")\n",
        "        return None\n",
        "    except Exception as e:\n",
        "        print(f\"Erro ao ler o arquivo: {e}\")\n",
        "        return None\n",
        "\n",
        "    return matriz\n",
        "\n",
        "# Adicionando um caminho pro arquivo\n",
        "caminho_do_arquivo = '/content/grafo.txt'\n",
        "matriz_resultante = ler_matriz_do_arquivo(caminho_do_arquivo)\n",
        "\n",
        "# Exibindo a matriz resultante\n",
        "if matriz_resultante:\n",
        "    print(\"\\nMatriz lida do arquivo:\")\n",
        "    for linha in matriz_resultante:\n",
        "        print(linha)\n"
      ]
    },
    {
      "cell_type": "markdown",
      "source": [
        "Como o arquivo fornece uma matriz de distancia, apos a leitura , fiz o ajuste da matriz, para que o mesmo valor que contenha na posicao i,j esteja na posicao j,i.\n",
        "E como dito em aula, onde esta 999 pode ser um valor valido futuramente, então é adicionado na matriz para a posicao i,j => j,i"
      ],
      "metadata": {
        "id": "Q_zNlJoU2CR0"
      }
    },
    {
      "cell_type": "code",
      "source": [
        "#funcao que ajusta a matriz que foi lida anteriormente\n",
        "def ajustar_matriz_distancias(matriz):\n",
        "    # Verifica se a matriz é quadrada, caso não é exibido a mensagem\n",
        "    if len(matriz) != len(matriz[0]):\n",
        "        print(\"A matriz não é quadrada.\")\n",
        "        return None\n",
        "\n",
        "    # Itera sobre a matriz para ajustar os valores\n",
        "    for i in range(len(matriz)):\n",
        "        for j in range(len(matriz[0])):\n",
        "            # Se a entrada for 0, mantenha como está (representando a ausência de uma aresta)\n",
        "            if i != j and matriz[i][j] == 0:\n",
        "                matriz[i][j] = 999\n",
        "            # Se a entrada for diferente de 0 e 999, ajuste a simetria\n",
        "            elif i != j and matriz[i][j] != 999:\n",
        "                matriz[j][i] = matriz[i][j]\n",
        "\n",
        "    return matriz\n",
        "\n",
        "\n",
        "caminho_do_arquivo = '/content/grafo.txt'\n",
        "matriz_resultante = ler_matriz_do_arquivo(caminho_do_arquivo)\n",
        "\n",
        "if matriz_resultante:\n",
        "    print(\"\\nMatriz lida do arquivo:\")\n",
        "    for linha in matriz_resultante:\n",
        "        print(linha)\n",
        "\n",
        "    matriz_ajustada = ajustar_matriz_distancias(matriz_resultante)\n",
        "\n",
        "    if matriz_ajustada:\n",
        "        print(\"\\nMatriz ajustada para distâncias:\")\n",
        "        for linha in matriz_ajustada:\n",
        "            print(linha)\n"
      ],
      "metadata": {
        "colab": {
          "base_uri": "https://localhost:8080/"
        },
        "id": "4pUp4EMV13VY",
        "outputId": "88a076be-6ba2-4220-8a9a-6ab669b55431"
      },
      "execution_count": 66,
      "outputs": [
        {
          "output_type": "stream",
          "name": "stdout",
          "text": [
            "Número de vértices: 6\n",
            "\n",
            "Matriz lida do arquivo:\n",
            "[0, 5, 3, 999, 999, 999]\n",
            "[0, 0, 4, 3, 7, 999]\n",
            "[0, 0, 0, 5, 3, 999]\n",
            "[0, 0, 0, 0, 7, 4]\n",
            "[0, 0, 0, 0, 0, 3]\n",
            "[0, 0, 0, 0, 0, 0]\n",
            "\n",
            "Matriz ajustada para distâncias:\n",
            "[0, 5, 3, 999, 999, 999]\n",
            "[5, 0, 4, 3, 7, 999]\n",
            "[3, 4, 0, 5, 3, 999]\n",
            "[999, 3, 5, 0, 7, 4]\n",
            "[999, 7, 3, 7, 0, 3]\n",
            "[999, 999, 999, 4, 3, 0]\n"
          ]
        }
      ]
    },
    {
      "cell_type": "markdown",
      "source": [
        "Abaixo, a função que faz a criação da matriz de adjacências, como proposto, onde a 0 e 999 significa que não a adjacências"
      ],
      "metadata": {
        "id": "nU-mx8thJG3W"
      }
    },
    {
      "cell_type": "code",
      "source": [
        "import numpy as np\n",
        "\n",
        "# Função para criar a matriz de adjacências com base na matriz de distâncias ajustada\n",
        "def criar_matriz_adjacencias(matriz):\n",
        "    # Pega a matriz de distâncias ajustada\n",
        "    matriz_ajustada = ajustar_matriz_distancias(matriz)\n",
        "\n",
        "    # Verifica se a matriz foi ajustada com sucesso\n",
        "    if matriz_ajustada:\n",
        "        # Pega o número de vértices\n",
        "        num_vertices = len(matriz_ajustada)\n",
        "        # Cria uma matriz de adjacências preenchida com zeros\n",
        "        matriz_adj = np.zeros((num_vertices, num_vertices), dtype=int)\n",
        "\n",
        "        # Preenche a matriz de adjacências\n",
        "        for i in range(num_vertices):\n",
        "            for j in range(num_vertices):\n",
        "                # Verifica se há uma aresta entre os vértices\n",
        "                if matriz_ajustada[i][j] != 0 and matriz_ajustada[i][j] != 999:\n",
        "                    # 1 indica que a adjacencia entre aqueles vertices\n",
        "                    matriz_adj[i][j] = 1\n",
        "        return matriz_adj\n",
        "\n",
        "caminho_do_arquivo = '/content/grafo.txt'\n",
        "matriz_distancias = ler_matriz_do_arquivo(caminho_do_arquivo)\n",
        "\n",
        "if matriz_distancias:\n",
        "    matriz_adjacencias = criar_matriz_adjacencias(matriz_distancias)\n",
        "\n",
        "    if matriz_adjacencias is not None:\n",
        "        print(\"\\nMatriz de Adjacências:\")\n",
        "        print(matriz_adjacencias)\n"
      ],
      "metadata": {
        "colab": {
          "base_uri": "https://localhost:8080/"
        },
        "id": "j1Uq3Ux9cAK-",
        "outputId": "ad3d627a-b5a9-469a-ebce-744f80a30160"
      },
      "execution_count": 69,
      "outputs": [
        {
          "output_type": "stream",
          "name": "stdout",
          "text": [
            "Número de vértices: 6\n",
            "\n",
            "Matriz de Adjacências:\n",
            "[[0 1 1 0 0 0]\n",
            " [1 0 1 1 1 0]\n",
            " [1 1 0 1 1 0]\n",
            " [0 1 1 0 1 1]\n",
            " [0 1 1 1 0 1]\n",
            " [0 0 0 1 1 0]]\n"
          ]
        }
      ]
    },
    {
      "cell_type": "markdown",
      "source": [
        "Agora é criado a função para criar a matriz de incidencia"
      ],
      "metadata": {
        "id": "33MPNItGUixQ"
      }
    },
    {
      "cell_type": "code",
      "source": [
        "def cria_matriz_incidencia(matriz_distancias):\n",
        "    if len(matriz_distancias) != len(matriz_distancias[0]):\n",
        "        print(\"A matriz não é quadrada.\")\n",
        "        return None\n",
        "\n",
        "#crio uma matriz auxiliar vazia para ser preenchida\n",
        "    def cria_matriz_vazia_aux(num_vertices, num_arestas):\n",
        "        return [[0] * num_arestas for _ in range(num_vertices)]\n",
        "\n",
        "    # Ajusta a matriz de distâncias\n",
        "    matriz_ajustada = ajustar_matriz_distancias(matriz_distancias)\n",
        "\n",
        "    # if matriz_ajustada:\n",
        "    #     print(\"Erro ao ajustar a matriz de distâncias.\")\n",
        "    #     return None\n",
        "\n",
        "    # Número de vértices\n",
        "    num_vertices = len(matriz_ajustada)\n",
        "    # numero de arestas é iterado sobre todos os vertices do grafo, além disso verifica se o valor não é 999\n",
        "    #sum faz a soma de tudo que ocorreu e retorna um numero inteiro contendo o numero de arestas\n",
        "    num_arestas = sum([1 for i in range(num_vertices) for j in range(i + 1, num_vertices) if matriz_ajustada[i][j] != 999])\n",
        "\n",
        "    # Cria uma matriz de incidência inicial com todos os valores iguais a 0\n",
        "    matriz_incidencia = cria_matriz_vazia_aux(num_vertices, num_arestas)\n",
        "\n",
        "    # Preenche a matriz de incidência\n",
        "    aresta_idx = 0\n",
        "    for i in range(num_vertices):\n",
        "        for j in range(i + 1, num_vertices):\n",
        "            if matriz_ajustada[i][j] != 999:\n",
        "                matriz_incidencia[i][aresta_idx] = 1\n",
        "                matriz_incidencia[j][aresta_idx] = 1\n",
        "                aresta_idx += 1\n",
        "\n",
        "    # Retorna apenas a matriz de incidência\n",
        "    return matriz_incidencia\n",
        "\n",
        "caminho_do_arquivo = '/content/grafo.txt'\n",
        "matriz_resultante = ler_matriz_do_arquivo(caminho_do_arquivo)\n",
        "\n",
        "if matriz_resultante:\n",
        "    # Gera a matriz de incidência\n",
        "    matriz_incidencia = cria_matriz_incidencia(matriz_resultante)\n",
        "\n",
        "    if matriz_incidencia:\n",
        "        print(\"\\nMatriz de Incidência:\")\n",
        "        for linha in matriz_incidencia:\n",
        "            print(linha)\n"
      ],
      "metadata": {
        "colab": {
          "base_uri": "https://localhost:8080/"
        },
        "id": "0tQ3fGwweKhp",
        "outputId": "e21fdc14-14fa-499e-ec40-73c68f3e8aeb"
      },
      "execution_count": 60,
      "outputs": [
        {
          "output_type": "stream",
          "name": "stdout",
          "text": [
            "Número de vértices: 6\n",
            "\n",
            "Matriz de Incidência:\n",
            "[1, 1, 0, 0, 0, 0, 0, 0, 0, 0]\n",
            "[1, 0, 1, 1, 1, 0, 0, 0, 0, 0]\n",
            "[0, 1, 1, 0, 0, 1, 1, 0, 0, 0]\n",
            "[0, 0, 0, 1, 0, 1, 0, 1, 1, 0]\n",
            "[0, 0, 0, 0, 1, 0, 1, 1, 0, 1]\n",
            "[0, 0, 0, 0, 0, 0, 0, 0, 1, 1]\n"
          ]
        }
      ]
    },
    {
      "cell_type": "code",
      "source": [
        "# Função que lê a matriz do arquivo e a ajusta\n",
        "def ler_e_ajustar_matriz(caminho_arquivo):\n",
        "    # Chama a função para ler a matriz do arquivo\n",
        "    matriz = ler_matriz_do_arquivo(caminho_arquivo)\n",
        "\n",
        "    # Verifica se a leitura foi bem-sucedida\n",
        "    if matriz:\n",
        "        # Chama a função para ajustar a matriz de distâncias\n",
        "        matriz_ajustada = ajustar_matriz_distancias(matriz)\n",
        "\n",
        "        # Verifica se o ajuste foi bem-sucedido\n",
        "        if matriz_ajustada:\n",
        "            return matriz_ajustada\n",
        "    return None\n",
        "\n",
        "caminho_do_arquivo = '/content/grafo.txt'\n",
        "matriz_ajustada = ler_e_ajustar_matriz(caminho_do_arquivo)\n",
        "\n",
        "# Verifica se a matriz foi lida e ajustada com sucesso\n",
        "if matriz_ajustada:\n",
        "    # Função que gera a lista de adjacências com letras\n",
        "    def cria_lista_adjacencias(matriz_adjacencia):\n",
        "        # Cria uma lista\n",
        "        lista_adj = {}\n",
        "\n",
        "        # Itera sobre cada linha da matriz\n",
        "        for i in range(len(matriz_adjacencia)):\n",
        "            # Converte o índice do vértice para letra (A, B, C, ...)\n",
        "            vertice = chr(ord('A') + i)\n",
        "\n",
        "            # Inicializa a lista de adjacências para o vértice atual\n",
        "            adjacencias = []\n",
        "\n",
        "            # Itera sobre cada coluna da matriz\n",
        "            for j in range(len(matriz_adjacencia[i])):\n",
        "                # Converte o índice do vértice adjacente para letra (A, B, C, ...)\n",
        "                adjacente = chr(ord('A') + j)\n",
        "\n",
        "                # Verifica se há uma aresta entre os vértices i e j\n",
        "                if i != j and matriz_adjacencia[i][j] != 999:\n",
        "                    # Adiciona o vértice adjacente à lista de adjacências\n",
        "                    adjacencias.append(adjacente)\n",
        "\n",
        "            # Adiciona a lista de adjacências ao dicionário\n",
        "            lista_adj[vertice] = adjacencias\n",
        "\n",
        "        return lista_adj\n",
        "\n",
        "    # Chamada da função para obter a lista de adjacências com letras\n",
        "    lista_adjacencias_letras_resultante = cria_lista_adjacencias(matriz_ajustada)\n",
        "\n",
        "    # Exibindo a lista de adjacências com letras\n",
        "    print(\"\\nLista de Adjacências:\")\n",
        "    for vertice, adjacencias in lista_adjacencias_letras_resultante.items():\n",
        "        print(f\"Vértice {vertice}: {adjacencias}\")\n",
        "else:\n",
        "    print(\"Falha ao ler ou ajustar a matriz.\")\n"
      ],
      "metadata": {
        "colab": {
          "base_uri": "https://localhost:8080/"
        },
        "id": "Yf0g0XosfJyk",
        "outputId": "2c69dda9-32cb-4fcc-f4ee-2b89d81f3811"
      },
      "execution_count": 61,
      "outputs": [
        {
          "output_type": "stream",
          "name": "stdout",
          "text": [
            "Número de vértices: 6\n",
            "\n",
            "Lista de Adjacências:\n",
            "Vértice A: ['B', 'C']\n",
            "Vértice B: ['A', 'C', 'D', 'E']\n",
            "Vértice C: ['A', 'B', 'D', 'E']\n",
            "Vértice D: ['B', 'C', 'E', 'F']\n",
            "Vértice E: ['B', 'C', 'D', 'F']\n",
            "Vértice F: ['D', 'E']\n"
          ]
        }
      ]
    },
    {
      "cell_type": "markdown",
      "source": [
        "Agora as funções de transformações\n"
      ],
      "metadata": {
        "id": "6BOdawsFoodg"
      }
    },
    {
      "cell_type": "code",
      "source": [
        "def get_adjacencia():\n",
        "  caminho_do_arquivo = '/content/grafo.txt'\n",
        "  matriz_simetrica = ler_e_ajustar_matriz(caminho_do_arquivo)\n",
        "  return criar_matriz_adjacencias(matriz_simetrica)\n",
        "\n",
        "matriz_adjacencias = get_adjacencia()\n",
        "matriz_incidencia = cria_matriz_incidencia(matriz_adjacencias)\n",
        "if matriz_adjacencias is not None:\n",
        "        print(\"\\nMatriz de Adjacências:\")\n",
        "        print(matriz_adjacencias)"
      ],
      "metadata": {
        "id": "paQMWAk2PAMP",
        "colab": {
          "base_uri": "https://localhost:8080/"
        },
        "outputId": "f82ab1f0-f0d9-4a0e-ba5f-4e6f0108f5ef"
      },
      "execution_count": 62,
      "outputs": [
        {
          "output_type": "stream",
          "name": "stdout",
          "text": [
            "Número de vértices: 6\n",
            "\n",
            "Matriz de Adjacências:\n",
            "[[  0   1   1 999 999 999]\n",
            " [  1   0   1   1   1 999]\n",
            " [  1   1   0   1   1 999]\n",
            " [999   1   1   0   1   1]\n",
            " [999   1   1   1   0   1]\n",
            " [999 999 999   1   1   0]]\n"
          ]
        }
      ]
    },
    {
      "cell_type": "code",
      "source": [
        "import numpy as np\n",
        "\n",
        "def matriz_adjacencia_para_incidencia(matriz_adjacencia):\n",
        "    # Verifica se a matriz de adjacências é quadrada\n",
        "    if len(matriz_adjacencia) != len(matriz_adjacencia[0]):\n",
        "        print(\"A matriz de adjacências não é quadrada.\")\n",
        "        return None\n",
        "\n",
        "    # Obtém o número de vértices e arestas\n",
        "    num_vertices = len(matriz_adjacencia)\n",
        "    num_arestas = int(num_vertices*(num_vertices-1)/2)  # n(n-1) / 2 para saber numero de arestas\n",
        "    print(num_vertices)\n",
        "\n",
        "    # Inicializa a matriz de incidência com zeros\n",
        "    matriz_incidencia = np.zeros((num_vertices, num_arestas), dtype=int)\n",
        "\n",
        "    # Preenche a matriz de incidência\n",
        "    aresta_idx = 0\n",
        "    for i in range(num_vertices):\n",
        "        for j in range(i, num_vertices):\n",
        "            if matriz_adjacencia[i][j] != 0:\n",
        "                matriz_incidencia[i][aresta_idx] = 1\n",
        "                matriz_incidencia[j][aresta_idx] = 1\n",
        "                aresta_idx += 1\n",
        "\n",
        "\n",
        "    return matriz_incidencia\n",
        "\n",
        "matriz_inc = matriz_adjacencia_para_incidencia(get_adjacencia())\n",
        "\n",
        "# Exibe a matriz de incidência\n",
        "print(\"\\nMatriz de Incidência:\")\n",
        "print(matriz_inc)"
      ],
      "metadata": {
        "colab": {
          "base_uri": "https://localhost:8080/"
        },
        "id": "BTenZiER9I1Y",
        "outputId": "62832363-75a6-4b21-962f-e39b7d229ee0"
      },
      "execution_count": 63,
      "outputs": [
        {
          "output_type": "stream",
          "name": "stdout",
          "text": [
            "Número de vértices: 6\n",
            "6\n",
            "\n",
            "Matriz de Incidência:\n",
            "[[1 1 0 0 0 0 0 0 0 0 0 0 0 0 0]\n",
            " [1 0 1 1 1 0 0 0 0 0 0 0 0 0 0]\n",
            " [0 1 1 0 0 1 1 0 0 0 0 0 0 0 0]\n",
            " [0 0 0 1 0 1 0 1 1 0 0 0 0 0 0]\n",
            " [0 0 0 0 1 0 1 1 0 1 0 0 0 0 0]\n",
            " [0 0 0 0 0 0 0 0 1 1 0 0 0 0 0]]\n"
          ]
        }
      ]
    },
    {
      "cell_type": "markdown",
      "source": [
        "Implementação do algoritmo de busca em profundidade\n"
      ],
      "metadata": {
        "id": "evE8iGNsmwz_"
      }
    },
    {
      "cell_type": "code",
      "source": [
        "def dfs(matriz_adj, visitados, vertice, vertices_visitados,predecessores):\n",
        "    print(f'Empilhando vértice {vertice} -> PREDECESSOR: {predecessores[vertice] if predecessores[vertice] is not None else \"N/A\"} -> Vertices adjacentes: {\", \".join(map(str, [v for v in range(len(matriz_adj)) if matriz_adj[vertice][v] == 1]))}')\n",
        "\n",
        "    visitados[vertice] = True\n",
        "    vertices_visitados.append(vertice)\n",
        "\n",
        "    vizinhos_adjacentes = [v for v in range(len(matriz_adj)) if matriz_adj[vertice][v] == 1]\n",
        "\n",
        "    for vizinho in vizinhos_adjacentes:\n",
        "        if not visitados[vizinho]:\n",
        "            predecessores[vizinho] = vertice\n",
        "            dfs(matriz_adj, visitados, vizinho, vertices_visitados,predecessores)\n",
        "\n",
        "    print(f'Desempilhando o vertice {vertice}.')\n",
        "\n",
        "def main():\n",
        "    caminho_do_arquivo = '/content/grafo.txt'\n",
        "\n",
        "    # Leitura da matriz do arquivo\n",
        "    matriz_distancias = ler_matriz_do_arquivo(caminho_do_arquivo)\n",
        "\n",
        "    if matriz_distancias:\n",
        "        # Ajuste da matriz de distâncias\n",
        "        matriz_ajustada = ajustar_matriz_distancias(matriz_distancias)\n",
        "\n",
        "        if matriz_ajustada:\n",
        "            # Criação da matriz de adjacências\n",
        "            matriz_adjacencias = criar_matriz_adjacencias(matriz_ajustada)\n",
        "\n",
        "            if matriz_adjacencias is not None:\n",
        "                # Inicialização do vetor de visitados\n",
        "                visitados = [False] * len(matriz_adjacencias)\n",
        "\n",
        "                predecessores = [None] * len(matriz_adjacencias)\n",
        "                # Inicialização da lista de vértices visitados\n",
        "                vertices_visitados = []\n",
        "\n",
        "                try:\n",
        "                    # Entrada do vértice inicial pelo usuário\n",
        "                    vertice_inicial = int(input(f\"Digite o vértice inicial (0 a {len(matriz_adjacencias) - 1}): \"))\n",
        "\n",
        "                    # Verificação se o vértice inicial está no intervalo esperado\n",
        "                    if 0 <= vertice_inicial < len(matriz_adjacencias):\n",
        "                        # Chama a função DFS\n",
        "                        dfs(matriz_adjacencias, visitados, vertice_inicial, vertices_visitados, predecessores)\n",
        "                        print(f'Vértices visitados em ordem: {\", \".join(map(str, vertices_visitados))}')\n",
        "                    else:\n",
        "                        print(f\"O vértice inserido está fora do intervalo esperado (0 a {len(matriz_adjacencias) - 1}).\")\n",
        "                except ValueError:\n",
        "                    print(\"Entrada inválida. Digite um número inteiro.\")\n",
        "\n",
        "if __name__ == \"__main__\":\n",
        "    main()\n"
      ],
      "metadata": {
        "colab": {
          "base_uri": "https://localhost:8080/",
          "height": 406
        },
        "id": "Mn8iFKnB-xdK",
        "outputId": "a0efad7b-5e40-4034-801f-e50a235d49ba"
      },
      "execution_count": 43,
      "outputs": [
        {
          "output_type": "stream",
          "name": "stdout",
          "text": [
            "Número de vértices: 10\n"
          ]
        },
        {
          "output_type": "error",
          "ename": "KeyboardInterrupt",
          "evalue": "ignored",
          "traceback": [
            "\u001b[0;31m---------------------------------------------------------------------------\u001b[0m",
            "\u001b[0;31mKeyboardInterrupt\u001b[0m                         Traceback (most recent call last)",
            "\u001b[0;32m<ipython-input-43-1b2be5f5cec5>\u001b[0m in \u001b[0;36m<cell line: 52>\u001b[0;34m()\u001b[0m\n\u001b[1;32m     51\u001b[0m \u001b[0;34m\u001b[0m\u001b[0m\n\u001b[1;32m     52\u001b[0m \u001b[0;32mif\u001b[0m \u001b[0m__name__\u001b[0m \u001b[0;34m==\u001b[0m \u001b[0;34m\"__main__\"\u001b[0m\u001b[0;34m:\u001b[0m\u001b[0;34m\u001b[0m\u001b[0;34m\u001b[0m\u001b[0m\n\u001b[0;32m---> 53\u001b[0;31m     \u001b[0mmain\u001b[0m\u001b[0;34m(\u001b[0m\u001b[0;34m)\u001b[0m\u001b[0;34m\u001b[0m\u001b[0;34m\u001b[0m\u001b[0m\n\u001b[0m",
            "\u001b[0;32m<ipython-input-43-1b2be5f5cec5>\u001b[0m in \u001b[0;36mmain\u001b[0;34m()\u001b[0m\n\u001b[1;32m     38\u001b[0m                 \u001b[0;32mtry\u001b[0m\u001b[0;34m:\u001b[0m\u001b[0;34m\u001b[0m\u001b[0;34m\u001b[0m\u001b[0m\n\u001b[1;32m     39\u001b[0m                     \u001b[0;31m# Entrada do vértice inicial pelo usuário\u001b[0m\u001b[0;34m\u001b[0m\u001b[0;34m\u001b[0m\u001b[0m\n\u001b[0;32m---> 40\u001b[0;31m                     \u001b[0mvertice_inicial\u001b[0m \u001b[0;34m=\u001b[0m \u001b[0mint\u001b[0m\u001b[0;34m(\u001b[0m\u001b[0minput\u001b[0m\u001b[0;34m(\u001b[0m\u001b[0;34mf\"Digite o vértice inicial (0 a {len(matriz_adjacencias) - 1}): \"\u001b[0m\u001b[0;34m)\u001b[0m\u001b[0;34m)\u001b[0m\u001b[0;34m\u001b[0m\u001b[0;34m\u001b[0m\u001b[0m\n\u001b[0m\u001b[1;32m     41\u001b[0m \u001b[0;34m\u001b[0m\u001b[0m\n\u001b[1;32m     42\u001b[0m                     \u001b[0;31m# Verificação se o vértice inicial está no intervalo esperado\u001b[0m\u001b[0;34m\u001b[0m\u001b[0;34m\u001b[0m\u001b[0m\n",
            "\u001b[0;32m/usr/local/lib/python3.10/dist-packages/ipykernel/kernelbase.py\u001b[0m in \u001b[0;36mraw_input\u001b[0;34m(self, prompt)\u001b[0m\n\u001b[1;32m    849\u001b[0m                 \u001b[0;34m\"raw_input was called, but this frontend does not support input requests.\"\u001b[0m\u001b[0;34m\u001b[0m\u001b[0;34m\u001b[0m\u001b[0m\n\u001b[1;32m    850\u001b[0m             )\n\u001b[0;32m--> 851\u001b[0;31m         return self._input_request(str(prompt),\n\u001b[0m\u001b[1;32m    852\u001b[0m             \u001b[0mself\u001b[0m\u001b[0;34m.\u001b[0m\u001b[0m_parent_ident\u001b[0m\u001b[0;34m,\u001b[0m\u001b[0;34m\u001b[0m\u001b[0;34m\u001b[0m\u001b[0m\n\u001b[1;32m    853\u001b[0m             \u001b[0mself\u001b[0m\u001b[0;34m.\u001b[0m\u001b[0m_parent_header\u001b[0m\u001b[0;34m,\u001b[0m\u001b[0;34m\u001b[0m\u001b[0;34m\u001b[0m\u001b[0m\n",
            "\u001b[0;32m/usr/local/lib/python3.10/dist-packages/ipykernel/kernelbase.py\u001b[0m in \u001b[0;36m_input_request\u001b[0;34m(self, prompt, ident, parent, password)\u001b[0m\n\u001b[1;32m    893\u001b[0m             \u001b[0;32mexcept\u001b[0m \u001b[0mKeyboardInterrupt\u001b[0m\u001b[0;34m:\u001b[0m\u001b[0;34m\u001b[0m\u001b[0;34m\u001b[0m\u001b[0m\n\u001b[1;32m    894\u001b[0m                 \u001b[0;31m# re-raise KeyboardInterrupt, to truncate traceback\u001b[0m\u001b[0;34m\u001b[0m\u001b[0;34m\u001b[0m\u001b[0m\n\u001b[0;32m--> 895\u001b[0;31m                 \u001b[0;32mraise\u001b[0m \u001b[0mKeyboardInterrupt\u001b[0m\u001b[0;34m(\u001b[0m\u001b[0;34m\"Interrupted by user\"\u001b[0m\u001b[0;34m)\u001b[0m \u001b[0;32mfrom\u001b[0m \u001b[0;32mNone\u001b[0m\u001b[0;34m\u001b[0m\u001b[0;34m\u001b[0m\u001b[0m\n\u001b[0m\u001b[1;32m    896\u001b[0m             \u001b[0;32mexcept\u001b[0m \u001b[0mException\u001b[0m \u001b[0;32mas\u001b[0m \u001b[0me\u001b[0m\u001b[0;34m:\u001b[0m\u001b[0;34m\u001b[0m\u001b[0;34m\u001b[0m\u001b[0m\n\u001b[1;32m    897\u001b[0m                 \u001b[0mself\u001b[0m\u001b[0;34m.\u001b[0m\u001b[0mlog\u001b[0m\u001b[0;34m.\u001b[0m\u001b[0mwarning\u001b[0m\u001b[0;34m(\u001b[0m\u001b[0;34m\"Invalid Message:\"\u001b[0m\u001b[0;34m,\u001b[0m \u001b[0mexc_info\u001b[0m\u001b[0;34m=\u001b[0m\u001b[0;32mTrue\u001b[0m\u001b[0;34m)\u001b[0m\u001b[0;34m\u001b[0m\u001b[0;34m\u001b[0m\u001b[0m\n",
            "\u001b[0;31mKeyboardInterrupt\u001b[0m: Interrupted by user"
          ]
        }
      ]
    },
    {
      "cell_type": "code",
      "source": [
        "from collections import deque\n",
        "\n",
        "def bfs(matriz_adj, visitados, vertice_inicial):\n",
        "    fila = deque([vertice_inicial])\n",
        "    visitados[vertice_inicial] = True\n",
        "\n",
        "    while fila:\n",
        "        vertice_atual = fila.popleft()\n",
        "        print(f'Visitando vértice {vertice_atual}. Vertices adjacentes: {\", \".join(map(str, [v for v in range(len(matriz_adj)) if matriz_adj[vertice_atual][v] == 1]))}')\n",
        "\n",
        "        for vizinho in range(len(matriz_adj)):\n",
        "            if not visitados[vizinho] and matriz_adj[vertice_atual][vizinho] == 1:\n",
        "                fila.append(vizinho)\n",
        "                visitados[vizinho] = True\n",
        "\n",
        "def main():\n",
        "    caminho_do_arquivo = '/content/grafo.txt'\n",
        "\n",
        "    # Leitura da matriz do arquivo\n",
        "    matriz_distancias = ler_matriz_do_arquivo(caminho_do_arquivo)\n",
        "\n",
        "    if matriz_distancias:\n",
        "        # Ajuste da matriz de distâncias\n",
        "        matriz_ajustada = ajustar_matriz_distancias(matriz_distancias)\n",
        "\n",
        "        if matriz_ajustada:\n",
        "            # Criação da matriz de adjacências\n",
        "            matriz_adjacencias = criar_matriz_adjacencias(matriz_ajustada)\n",
        "\n",
        "            if matriz_adjacencias is not None:\n",
        "                # Inicialização do vetor de visitados\n",
        "                visitados = [False] * len(matriz_adjacencias)\n",
        "\n",
        "                try:\n",
        "                    # Entrada do vértice inicial pelo usuário\n",
        "                    vertice_inicial = int(input(f\"Digite o vértice inicial (0 a {len(matriz_adjacencias) - 1}): \"))\n",
        "\n",
        "                    # Verificação se o vértice inicial está no intervalo esperado\n",
        "                    if 0 <= vertice_inicial < len(matriz_adjacencias):\n",
        "                        # Chama a função BFS\n",
        "                        bfs(matriz_adjacencias, visitados, vertice_inicial)\n",
        "                    else:\n",
        "                        print(f\"O vértice inserido está fora do intervalo esperado (0 a {len(matriz_adjacencias) - 1}).\")\n",
        "                except ValueError:\n",
        "                    print(\"Entrada inválida. Digite um número inteiro.\")\n",
        "\n",
        "if __name__ == \"__main__\":\n",
        "    main()\n"
      ],
      "metadata": {
        "colab": {
          "base_uri": "https://localhost:8080/"
        },
        "id": "jsegDLKPewPQ",
        "outputId": "a2d02d3c-0f66-4dfc-93b8-a8e02c38eb48"
      },
      "execution_count": 11,
      "outputs": [
        {
          "output_type": "stream",
          "name": "stdout",
          "text": [
            "Número de vértices: 8\n",
            "Digite o vértice inicial (0 a 7): 0\n",
            "Visitando vértice 0. Vertices adjacentes: 1, 2, 5, 7\n",
            "Visitando vértice 1. Vertices adjacentes: 0, 7\n",
            "Visitando vértice 2. Vertices adjacentes: 0, 3, 6\n",
            "Visitando vértice 5. Vertices adjacentes: 0, 3, 4, 6\n",
            "Visitando vértice 7. Vertices adjacentes: 0, 1\n",
            "Visitando vértice 3. Vertices adjacentes: 2, 4, 5, 6\n",
            "Visitando vértice 6. Vertices adjacentes: 2, 3, 5\n",
            "Visitando vértice 4. Vertices adjacentes: 3, 5\n"
          ]
        }
      ]
    },
    {
      "cell_type": "markdown",
      "source": [
        "Algoritmo de Dijkstra"
      ],
      "metadata": {
        "id": "awCJVJZdvETL"
      }
    },
    {
      "cell_type": "code",
      "source": [
        "import sys\n",
        "from collections import deque\n",
        "\n",
        "def dijkstra(matriz_adj, origem):\n",
        "    distancias = [sys.maxsize] * len(matriz_adj)\n",
        "    distancias[origem] = 0\n",
        "    vertices_nao_processados = set(range(len(matriz_adj)))\n",
        "\n",
        "    while vertices_nao_processados:\n",
        "        vertice_atual = min(vertices_nao_processados, key=lambda v: distancias[v])\n",
        "\n",
        "        for vizinho, peso in enumerate(matriz_adj[vertice_atual]):\n",
        "            if peso > 0:\n",
        "                nova_distancia = distancias[vertice_atual] + peso\n",
        "                if nova_distancia < distancias[vizinho]:\n",
        "                    distancias[vizinho] = nova_distancia\n",
        "\n",
        "        vertices_nao_processados.remove(vertice_atual)\n",
        "\n",
        "    return distancias\n",
        "\n",
        "def exibir_caminho_minimo(distancias, origem):\n",
        "    for i, distancia in enumerate(distancias):\n",
        "        if distancia == sys.maxsize:\n",
        "            print(f'Caminho de {origem} para {i}: Não existe caminho.')\n",
        "        else:\n",
        "            print(f'Caminho de {origem} para {i}: Peso do caminho = {distancia}')\n",
        "\n",
        "def encontrar_caminho_maximo(distancias):\n",
        "    maximo = max(distancias)\n",
        "    indice_maximo = distancias.index(maximo)\n",
        "    return indice_maximo, maximo\n",
        "\n",
        "def encontrar_caminho_minimo(distancias, origem):\n",
        "    minimo = min(distancias)\n",
        "    indice_minimo = distancias.index(minimo)\n",
        "\n",
        "    # Ignora o caminho para o próprio vértice inicial\n",
        "    if indice_minimo == origem:\n",
        "        distancias[indice_minimo] = sys.maxsize\n",
        "        minimo = min(distancias)\n",
        "        indice_minimo = distancias.index(minimo)\n",
        "\n",
        "    return indice_minimo, minimo\n",
        "\n",
        "def exibir_matriz(matriz):\n",
        "    for linha in matriz:\n",
        "        linha_formatada = [str(0) if valor == 999 else str(valor) for valor in linha]\n",
        "        print(\", \".join(linha_formatada))\n",
        "\n",
        "def main():\n",
        "    caminho_do_arquivo = '/content/grafo.txt'\n",
        "\n",
        "    # Leitura da matriz do arquivo\n",
        "    matriz_distancias = ler_matriz_do_arquivo(caminho_do_arquivo)\n",
        "\n",
        "    if matriz_distancias:\n",
        "        # Ajuste da matriz de distâncias\n",
        "        matriz_ajustada = ajustar_matriz_distancias(matriz_distancias)\n",
        "\n",
        "        if matriz_ajustada:\n",
        "            # Imprimir a matriz antes de executar Dijkstra\n",
        "            print(\"Matriz de Adjacências:\")\n",
        "            exibir_matriz(matriz_ajustada)\n",
        "\n",
        "            # Inicialização do vetor de visitados\n",
        "            visitados = [False] * len(matriz_ajustada)\n",
        "\n",
        "            try:\n",
        "                # Entrada do vértice inicial pelo usuário\n",
        "                vertice_inicial = int(input(f\"\\nDigite o vértice inicial (0 a {len(matriz_ajustada) - 1}): \"))\n",
        "\n",
        "                # Verificação se o vértice inicial está no intervalo esperado\n",
        "                if 0 <= vertice_inicial < len(matriz_ajustada):\n",
        "                    # Chama a função Dijkstra\n",
        "                    distancias = dijkstra(matriz_ajustada, vertice_inicial)\n",
        "\n",
        "                    # Exibe o caminho mínimo\n",
        "                    exibir_caminho_minimo(distancias, vertice_inicial)\n",
        "\n",
        "                    # Encontra o caminho mais longo\n",
        "                    indice_maximo, maximo = encontrar_caminho_maximo(distancias)\n",
        "                    print(f'\\nCaminho mais longo: de {vertice_inicial} para {indice_maximo} com peso {maximo}')\n",
        "\n",
        "                    # Encontra o caminho mais curto\n",
        "                    indice_minimo, minimo = encontrar_caminho_minimo(distancias, vertice_inicial)\n",
        "                    print(f'Caminho mais curto: de {vertice_inicial} para {indice_minimo} com peso {minimo}')\n",
        "                else:\n",
        "                    print(f\"O vértice inserido está fora do intervalo esperado (0 a {len(matriz_ajustada) - 1}).\")\n",
        "            except ValueError:\n",
        "                print(\"Entrada inválida. Digite um número inteiro.\")\n",
        "\n",
        "if __name__ == \"__main__\":\n",
        "    main()\n"
      ],
      "metadata": {
        "colab": {
          "base_uri": "https://localhost:8080/"
        },
        "id": "DrPiGtkBvIjs",
        "outputId": "d0cf8584-129d-43dc-cbd9-24b893b4e52f"
      },
      "execution_count": 12,
      "outputs": [
        {
          "output_type": "stream",
          "name": "stdout",
          "text": [
            "Número de vértices: 8\n",
            "Matriz de Adjacências:\n",
            "0, 5, 7, 0, 0, 4, 0, 5\n",
            "5, 0, 0, 0, 0, 0, 0, 4\n",
            "7, 0, 0, 9, 0, 0, 8, 0\n",
            "0, 0, 9, 0, 7, 9, 11, 0\n",
            "0, 0, 0, 7, 0, 8, 0, 0\n",
            "4, 0, 0, 9, 8, 0, 8, 0\n",
            "0, 0, 8, 11, 0, 8, 0, 0\n",
            "5, 4, 0, 0, 0, 0, 0, 0\n",
            "\n",
            "Digite o vértice inicial (0 a 7): 0\n",
            "Caminho de 0 para 0: Peso do caminho = 0\n",
            "Caminho de 0 para 1: Peso do caminho = 5\n",
            "Caminho de 0 para 2: Peso do caminho = 7\n",
            "Caminho de 0 para 3: Peso do caminho = 13\n",
            "Caminho de 0 para 4: Peso do caminho = 12\n",
            "Caminho de 0 para 5: Peso do caminho = 4\n",
            "Caminho de 0 para 6: Peso do caminho = 12\n",
            "Caminho de 0 para 7: Peso do caminho = 5\n",
            "\n",
            "Caminho mais longo: de 0 para 3 com peso 13\n",
            "Caminho mais curto: de 0 para 5 com peso 4\n"
          ]
        }
      ]
    },
    {
      "cell_type": "markdown",
      "source": [
        "Prim(Arvore Geradora Minima)\n"
      ],
      "metadata": {
        "id": "Hi7dHEMj541N"
      }
    },
    {
      "cell_type": "code",
      "source": [
        "import sys\n",
        "\n",
        "def prim(matriz_adj):\n",
        "    num_vertices = len(matriz_adj)\n",
        "    chave = [sys.maxsize] * num_vertices\n",
        "    pai = [-1] * num_vertices\n",
        "    conjunto_mst = [False] * num_vertices\n",
        "    ordem_adicao = []  # Lista para armazenar a ordem de adição dos vértices\n",
        "\n",
        "    chave[0] = 0\n",
        "    resultado = []\n",
        "\n",
        "    for _ in range(num_vertices):\n",
        "        u = minimo_chave(chave, conjunto_mst)\n",
        "        conjunto_mst[u] = True\n",
        "        ordem_adicao.append(u)  # Adiciona o vértice à ordem de adição\n",
        "\n",
        "        for v in range(num_vertices):\n",
        "            if matriz_adj[u][v] > 0 and not conjunto_mst[v] and matriz_adj[u][v] < chave[v]:\n",
        "                chave[v] = matriz_adj[u][v]\n",
        "                pai[v] = u\n",
        "\n",
        "    for i in range(1, num_vertices):\n",
        "        resultado.append((pai[i], i, matriz_adj[i][pai[i]]))\n",
        "\n",
        "    peso_total = sum(matriz_adj[i][pai[i]] for i in range(1, num_vertices))\n",
        "\n",
        "    return resultado, peso_total, ordem_adicao\n",
        "\n",
        "# Restante do código permanece o mesmo...\n",
        "\n",
        "def exibir_ordem_adicao(ordem_adicao):\n",
        "    print(\"\\nOrdem de Adição dos Vértices:\")\n",
        "    print(\" -> \".join(map(str, ordem_adicao)))\n",
        "\n",
        "# Adicione a chamada da função exibir_ordem_adicao ao final do bloco \"if matriz_ajustada:\"\n",
        "\n",
        "# Restante do código permanece o mesmo...\n",
        "if matriz_ajustada:\n",
        "    # Imprimir a matriz antes de executar Prim\n",
        "    print(\"Matriz de Adjacências:\")\n",
        "    exibir_matriz(matriz_ajustada)\n",
        "\n",
        "    # Chama a função Prim\n",
        "    resultado_prim, peso_total, ordem_adicao = prim(matriz_ajustada)\n",
        "\n",
        "    # Exibe o resultado\n",
        "    exibir_resultado_prim(resultado_prim, peso_total)\n",
        "\n",
        "    # Exibe a ordem de adição dos vértices\n",
        "    exibir_ordem_adicao(ordem_adicao)\n"
      ],
      "metadata": {
        "colab": {
          "base_uri": "https://localhost:8080/",
          "height": 547
        },
        "id": "t-MIwDxD59cB",
        "outputId": "9200391b-736b-4030-de69-26c2bd2b1f44"
      },
      "execution_count": 13,
      "outputs": [
        {
          "output_type": "stream",
          "name": "stdout",
          "text": [
            "Matriz de Adjacências:\n",
            "0, 5, 7, 0, 0, 4, 0, 5\n",
            "5, 0, 0, 0, 0, 0, 0, 4\n",
            "7, 0, 0, 9, 0, 0, 8, 0\n",
            "0, 0, 9, 0, 7, 9, 11, 0\n",
            "0, 0, 0, 7, 0, 8, 0, 0\n",
            "4, 0, 0, 9, 8, 0, 8, 0\n",
            "0, 0, 8, 11, 0, 8, 0, 0\n",
            "5, 4, 0, 0, 0, 0, 0, 0\n"
          ]
        },
        {
          "output_type": "error",
          "ename": "NameError",
          "evalue": "ignored",
          "traceback": [
            "\u001b[0;31m---------------------------------------------------------------------------\u001b[0m",
            "\u001b[0;31mNameError\u001b[0m                                 Traceback (most recent call last)",
            "\u001b[0;32m<ipython-input-13-2665d9d484e7>\u001b[0m in \u001b[0;36m<cell line: 39>\u001b[0;34m()\u001b[0m\n\u001b[1;32m     43\u001b[0m \u001b[0;34m\u001b[0m\u001b[0m\n\u001b[1;32m     44\u001b[0m     \u001b[0;31m# Chama a função Prim\u001b[0m\u001b[0;34m\u001b[0m\u001b[0;34m\u001b[0m\u001b[0m\n\u001b[0;32m---> 45\u001b[0;31m     \u001b[0mresultado_prim\u001b[0m\u001b[0;34m,\u001b[0m \u001b[0mpeso_total\u001b[0m\u001b[0;34m,\u001b[0m \u001b[0mordem_adicao\u001b[0m \u001b[0;34m=\u001b[0m \u001b[0mprim\u001b[0m\u001b[0;34m(\u001b[0m\u001b[0mmatriz_ajustada\u001b[0m\u001b[0;34m)\u001b[0m\u001b[0;34m\u001b[0m\u001b[0;34m\u001b[0m\u001b[0m\n\u001b[0m\u001b[1;32m     46\u001b[0m \u001b[0;34m\u001b[0m\u001b[0m\n\u001b[1;32m     47\u001b[0m     \u001b[0;31m# Exibe o resultado\u001b[0m\u001b[0;34m\u001b[0m\u001b[0;34m\u001b[0m\u001b[0m\n",
            "\u001b[0;32m<ipython-input-13-2665d9d484e7>\u001b[0m in \u001b[0;36mprim\u001b[0;34m(matriz_adj)\u001b[0m\n\u001b[1;32m     12\u001b[0m \u001b[0;34m\u001b[0m\u001b[0m\n\u001b[1;32m     13\u001b[0m     \u001b[0;32mfor\u001b[0m \u001b[0m_\u001b[0m \u001b[0;32min\u001b[0m \u001b[0mrange\u001b[0m\u001b[0;34m(\u001b[0m\u001b[0mnum_vertices\u001b[0m\u001b[0;34m)\u001b[0m\u001b[0;34m:\u001b[0m\u001b[0;34m\u001b[0m\u001b[0;34m\u001b[0m\u001b[0m\n\u001b[0;32m---> 14\u001b[0;31m         \u001b[0mu\u001b[0m \u001b[0;34m=\u001b[0m \u001b[0mminimo_chave\u001b[0m\u001b[0;34m(\u001b[0m\u001b[0mchave\u001b[0m\u001b[0;34m,\u001b[0m \u001b[0mconjunto_mst\u001b[0m\u001b[0;34m)\u001b[0m\u001b[0;34m\u001b[0m\u001b[0;34m\u001b[0m\u001b[0m\n\u001b[0m\u001b[1;32m     15\u001b[0m         \u001b[0mconjunto_mst\u001b[0m\u001b[0;34m[\u001b[0m\u001b[0mu\u001b[0m\u001b[0;34m]\u001b[0m \u001b[0;34m=\u001b[0m \u001b[0;32mTrue\u001b[0m\u001b[0;34m\u001b[0m\u001b[0;34m\u001b[0m\u001b[0m\n\u001b[1;32m     16\u001b[0m         \u001b[0mordem_adicao\u001b[0m\u001b[0;34m.\u001b[0m\u001b[0mappend\u001b[0m\u001b[0;34m(\u001b[0m\u001b[0mu\u001b[0m\u001b[0;34m)\u001b[0m  \u001b[0;31m# Adiciona o vértice à ordem de adição\u001b[0m\u001b[0;34m\u001b[0m\u001b[0;34m\u001b[0m\u001b[0m\n",
            "\u001b[0;31mNameError\u001b[0m: name 'minimo_chave' is not defined"
          ]
        }
      ]
    },
    {
      "cell_type": "markdown",
      "source": [
        "ciclo euleriano"
      ],
      "metadata": {
        "id": "WOFVdVdnBWfT"
      }
    },
    {
      "cell_type": "code",
      "source": [
        "# Função para verificar se o grafo é euleriano\n",
        "def grafo_euleriano(matriz_adjacencias):\n",
        "    num_vertices = len(matriz_adjacencias)\n",
        "\n",
        "    # Verifica se todos os vértices têm grau par\n",
        "    for i in range(num_vertices):\n",
        "        grau = sum(matriz_adjacencias[i])\n",
        "        if grau % 2 != 0:\n",
        "            return False\n",
        "\n",
        "    # Verifica se o grafo é conexo usando DFS\n",
        "    visitados = [False] * num_vertices\n",
        "    pilha = [0]\n",
        "    while pilha:\n",
        "        vertice_atual = pilha.pop()\n",
        "        if not visitados[vertice_atual]:\n",
        "            visitados[vertice_atual] = True\n",
        "            pilha.extend(vizinho for vizinho in range(num_vertices) if matriz_adjacencias[vertice_atual][vizinho] == 1)\n",
        "\n",
        "    # Se todos os vértices foram visitados, o grafo é conexo\n",
        "    if all(visitados):\n",
        "        return True\n",
        "    else:\n",
        "        return False\n",
        "\n",
        "# Função para encontrar e imprimir um ciclo euleriano\n",
        "def encontrar_ciclo_euleriano(matriz_adjacencias):\n",
        "    # Verifica se o grafo é euleriano\n",
        "    if not grafo_euleriano(matriz_adjacencias):\n",
        "        print(\"O grafo não é euleriano.\")\n",
        "        return\n",
        "\n",
        "    num_vertices = len(matriz_adjacencias)\n",
        "    arestas_ciclo = []\n",
        "\n",
        "    # Função de busca em profundidade (DFS) para encontrar o ciclo euleriano\n",
        "    def dfs_ciclo_euleriano(vertice):\n",
        "        for vizinho in range(num_vertices):\n",
        "            if matriz_adjacencias[vertice][vizinho] == 1:\n",
        "                matriz_adjacencias[vertice][vizinho] = 0  # \"Remove\" a aresta para evitar ciclos infinitos\n",
        "                matriz_adjacencias[vizinho][vertice] = 0\n",
        "                dfs_ciclo_euleriano(vizinho)\n",
        "                arestas_ciclo.append((vertice, vizinho))\n",
        "\n",
        "    vertice_inicial = 0  # Escolha arbitrária do ponto de partida\n",
        "    dfs_ciclo_euleriano(vertice_inicial)\n",
        "\n",
        "    # Exibe as arestas do ciclo euleriano\n",
        "    print(\"\\nArestas do Ciclo Euleriano:\")\n",
        "    for aresta in arestas_ciclo:\n",
        "        print(aresta)\n",
        "\n",
        "# Matriz de adjacências do grafo\n",
        "print(matriz_adjacencias)\n",
        "\n",
        "# Verifica se o grafo é euleriano\n",
        "if grafo_euleriano(matriz_adjacencias):\n",
        "    print(\"O grafo é euleriano.\")\n",
        "    # Encontra e imprime o ciclo euleriano\n",
        "    encontrar_ciclo_euleriano(matriz_adjacencias)\n",
        "else:\n",
        "    print(\"O grafo não é euleriano.\")\n"
      ],
      "metadata": {
        "colab": {
          "base_uri": "https://localhost:8080/"
        },
        "id": "dz7nhAw3BYxK",
        "outputId": "83663a0d-0be8-47b3-896b-81bf13ca4e9d"
      },
      "execution_count": 68,
      "outputs": [
        {
          "output_type": "stream",
          "name": "stdout",
          "text": [
            "[[0 1 1 0 0 0]\n",
            " [1 0 1 1 1 0]\n",
            " [1 1 0 1 1 0]\n",
            " [0 1 1 0 1 1]\n",
            " [0 1 1 1 0 1]\n",
            " [0 0 0 1 1 0]]\n",
            "O grafo é euleriano.\n",
            "\n",
            "Arestas do Ciclo Euleriano:\n",
            "(2, 0)\n",
            "(4, 2)\n",
            "(5, 4)\n",
            "(3, 5)\n",
            "(4, 3)\n",
            "(1, 4)\n",
            "(3, 1)\n",
            "(2, 3)\n",
            "(1, 2)\n",
            "(0, 1)\n"
          ]
        }
      ]
    },
    {
      "cell_type": "markdown",
      "source": [
        "Ordenação Topológica"
      ],
      "metadata": {
        "id": "FUDsSln0GzGW"
      }
    },
    {
      "cell_type": "code",
      "source": [
        "# Definição da função de ordenação topológica utilizando busca em profundidade (DFS)\n",
        "def ordenacao_topologica_dfs(matriz_adjacencias):\n",
        "    # Obtém o número de vértices na matriz de adjacências\n",
        "    num_vertices = len(matriz_adjacencias)\n",
        "\n",
        "    # Inicializa a lista de vértices visitados como False para todos os vértices\n",
        "    visitados = [False] * num_vertices\n",
        "\n",
        "    # Lista que irá armazenar a ordenação topológica\n",
        "    ordenacao_topologica = []\n",
        "\n",
        "    # Função de busca em profundidade (DFS)\n",
        "    def dfs(vertice):\n",
        "        nonlocal visitados, ordenacao_topologica\n",
        "\n",
        "        # Marca o vértice como visitado\n",
        "        visitados[vertice] = True\n",
        "\n",
        "        # Itera sobre os vizinhos do vértice\n",
        "        for vizinho in range(num_vertices):\n",
        "            # Verifica se há uma aresta entre o vértice e o vizinho, se o vizinho não foi visitado\n",
        "            if (\n",
        "                matriz_adjacencias[vertice][vizinho] != 0\n",
        "                and matriz_adjacencias[vertice][vizinho] != 999\n",
        "                and not visitados[vizinho]\n",
        "            ):\n",
        "                # Chama a DFS recursivamente para o vizinho\n",
        "                dfs(vizinho)\n",
        "\n",
        "        # Adiciona o vértice ao final da lista de ordenação topológica\n",
        "        ordenacao_topologica.append(vertice)\n",
        "\n",
        "    # Itera sobre todos os vértices\n",
        "    for i in range(num_vertices):\n",
        "        # Se o vértice não foi visitado, chama a DFS para esse vértice\n",
        "        if not visitados[i]:\n",
        "            dfs(i)\n",
        "\n",
        "    # Inverte a lista para obter a ordenação topológica correta\n",
        "    ordenacao_topologica.reverse()\n",
        "\n",
        "    # Retorna a lista de vértices ordenados topologicamente\n",
        "    return ordenacao_topologica\n",
        "\n",
        "\n",
        "# Executar a ordenação topológica\n",
        "vertices_ordenados = ordenacao_topologica_dfs(matriz_resultante)\n",
        "\n",
        "# Exibir os vértices ordenados\n",
        "print(\"Vértices Ordenados Topologicamente:\")\n",
        "print(vertices_ordenados)"
      ],
      "metadata": {
        "colab": {
          "base_uri": "https://localhost:8080/"
        },
        "id": "yCx3UufEG2tr",
        "outputId": "35d70543-d1c2-4d74-8acc-86679165689d"
      },
      "execution_count": 73,
      "outputs": [
        {
          "output_type": "stream",
          "name": "stdout",
          "text": [
            "Vértices Ordenados Topologicamente:\n",
            "[9, 0, 5, 1, 2, 4, 6, 7, 8, 3]\n"
          ]
        }
      ]
    }
  ]
}