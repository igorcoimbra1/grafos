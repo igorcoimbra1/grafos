{
  "nbformat": 4,
  "nbformat_minor": 0,
  "metadata": {
    "colab": {
      "provenance": []
    },
    "kernelspec": {
      "name": "python3",
      "display_name": "Python 3"
    },
    "language_info": {
      "name": "python"
    }
  },
  "cells": [
    {
      "cell_type": "code",
      "execution_count": null,
      "metadata": {
        "colab": {
          "base_uri": "https://localhost:8080/"
        },
        "id": "q8DsXnDL4jav",
        "outputId": "5c98e2d0-befc-4adc-eca5-b72f20ce0d99"
      },
      "outputs": [
        {
          "output_type": "stream",
          "name": "stdout",
          "text": [
            "Número de vértices: 4\n",
            "Matriz de adjacência:\n",
            "[0, 1, 1, 1]\n",
            "[0, 0, 1, 0]\n",
            "[0, 0, 0, 1]\n",
            "[0, 0, 0, 0]\n"
          ]
        }
      ],
      "source": [
        "def ler_grafo_do_arquivo(file_path):\n",
        "    try:\n",
        "        with open(file_path, 'r') as file:\n",
        "            # Lê o número de vértices\n",
        "            num_vertices = int(file.readline().strip())\n",
        "\n",
        "            # Inicializa a matriz de adjacência com zeros\n",
        "            graph_matrix = [[0] * num_vertices for _ in range(num_vertices)]\n",
        "\n",
        "            # Preenche a matriz de adjacência a partir do arquivo\n",
        "            for i in range(num_vertices):\n",
        "                line = file.readline().strip().split()\n",
        "                for j in range(num_vertices):\n",
        "                    graph_matrix[i][j] = int(line[j])\n",
        "\n",
        "            return num_vertices, graph_matrix\n",
        "    except FileNotFoundError:\n",
        "        print(f\"Arquivo '{file_path}' não encontrado.\")\n",
        "    except Exception as e:\n",
        "        print(f\"Ocorreu um erro: {e}\")\n",
        "\n",
        "# Exemplo de uso\n",
        "file_path = '/content/grafo.txt'\n",
        "num_vertices, graph_matrix = ler_grafo_do_arquivo(file_path)\n",
        "\n",
        "print(f\"Número de vértices: {num_vertices}\")\n",
        "print(\"Matriz de adjacência:\")\n",
        "for row in graph_matrix:\n",
        "    print(row)"
      ]
    }
  ]
}